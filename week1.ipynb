{
 "cells": [
  {
   "cell_type": "code",
   "execution_count": 2,
   "id": "b783cb46",
   "metadata": {},
   "outputs": [],
   "source": [
    "from skyfield.api import load\n",
    "from skyfield.framelib import ecliptic_frame\n",
    "import numpy as np\n",
    "\n",
    "planets = load('de430t.bsp')\n",
    "ts = load.timescale()\n",
    "sun = planets['sun']\n",
    "earth = planets['earth barycenter']\n",
    "neptune = planets['neptune barycenter']\n",
    "\n",
    "t = ts.utc(2023, 10, 1, 0, 0)"
   ]
  },
  {
   "cell_type": "code",
   "execution_count": 2,
   "id": "efa093f6",
   "metadata": {},
   "outputs": [
    {
     "name": "stdout",
     "output_type": "stream",
     "text": [
      "Neptune distance in AU: 29.897846359936675\n",
      "Earth distance in AU: 0.9928297989603362\n"
     ]
    }
   ],
   "source": [
    "#1\n",
    "neptune_position = neptune.at(t).position.au\n",
    "print(f\"Neptune distance in AU: {np.linalg.norm(neptune_position)}\")\n",
    "earth_position = earth.at(t).position.au\n",
    "print(f\"Earth distance in AU: {np.linalg.norm(earth_position)}\")"
   ]
  },
  {
   "cell_type": "code",
   "execution_count": 3,
   "id": "1248e67f",
   "metadata": {},
   "outputs": [
    {
     "data": {
      "image/png": "[encoded data removed]",
      "text/plain": [
       "<Figure size 640x480 with 1 Axes>"
      ]
     },
     "metadata": {},
     "output_type": "display_data"
    }
   ],
   "source": [
    "from matplotlib import pyplot as plt\n",
    "import matplotlib.ticker as ticker\n",
    "\n",
    "fig, ax = plt.subplots()\n",
    "distance = np.linspace(1,30,100)\n",
    "\n",
    "solar_constant = 1361\n",
    "stefan_boltzmann_constant = 5.67e-8\n",
    "T = (solar_constant / distance**2 /(4*stefan_boltzmann_constant))**0.25\n",
    "plot = ax.plot(distance, T, label='Solar constant')\n",
    "\n",
    "ax.set_yscale('log')\n",
    "ax.yaxis.set_major_formatter(ticker.StrMethodFormatter('{x:.0f}'))\n",
    "plt.show()\n"
   ]
  },
  {
   "cell_type": "markdown",
   "id": "fb0a6c2f",
   "metadata": {},
   "source": [
    "https://www.spacex.com/media/falcon-users-guide-2025-03-14.pdf\n",
    "Page 34 - ESI\n",
    "Page 39 - Random Vibration\n",
    "\n",
    "Launch loads that I need to sustain:"
   ]
  },
  {
   "cell_type": "code",
   "execution_count": 4,
   "id": "91fb3c17",
   "metadata": {},
   "outputs": [
    {
     "name": "stdout",
     "output_type": "stream",
     "text": [
      "t_b: 0.09259259259259259\n",
      "t_w: 0.09400443421727941\n",
      "mass per panel: 40.304957790932356 mass: 161.21983116372942\n"
     ]
    }
   ],
   "source": [
    "diameter = 0.2 #cm\n",
    "\n",
    "cb = 0.25\n",
    "rho_p = 5\n",
    "rho_b = 2.7\n",
    "\n",
    "t_b = cb  * diameter * rho_p / rho_b\n",
    "\n",
    "cw = 0.16 #cm^2-sec (g^2/3 km)\n",
    "Mp = 0.75 * np.pi * (diameter/2)**3 * rho_p #g\n",
    "sigma = 50 #ksi\n",
    "Vn = 10#km/s\n",
    "S = 10 #cm\n",
    "\n",
    "t_w = cw * diameter**0.5 * (rho_b * rho_p)**(1/6) * (Mp)**(1/3) * Vn / S**0.5 * (70/sigma)**0.5\n",
    "\n",
    "print(f\"t_b: {t_b}\")\n",
    "print(f\"t_w: {t_w}\")\n",
    "\n",
    "height = 4 #m\n",
    "width = 2 #m\n",
    "\n",
    "area = height * width\n",
    "mass_panel = area * (t_b + t_w) / 100 * rho_b * 1000\n",
    "mass = 4 * mass_panel\n",
    "print(f\"mass per panel: {mass_panel} mass: {mass}\")"
   ]
  }
 ],
 "metadata": {
  "kernelspec": {
   "display_name": "base",
   "language": "python",
   "name": "python3"
  },
  "language_info": {
   "codemirror_mode": {
    "name": "ipython",
    "version": 3
   },
   "file_extension": ".py",
   "mimetype": "text/x-python",
   "name": "python",
   "nbconvert_exporter": "python",
   "pygments_lexer": "ipython3",
   "version": "3.11.5"
  }
 },
 "nbformat": 4,
 "nbformat_minor": 5
}
